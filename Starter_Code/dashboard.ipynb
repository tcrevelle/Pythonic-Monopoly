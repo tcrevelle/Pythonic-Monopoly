{
 "cells": [
  {
   "cell_type": "markdown",
   "metadata": {},
   "source": [
    "# San Francisco Rental Prices Dashboard\n",
    "\n",
    "In this notebook, you will compile the visualizations from the previous analysis into functions that can be used for a Panel dashboard."
   ]
  },
  {
   "cell_type": "code",
   "execution_count": 15,
   "metadata": {},
   "outputs": [],
   "source": [
    "# imports\n",
    "import panel as pn\n",
    "pn.extension('plotly')\n",
    "import plotly.express as px\n",
    "import pandas as pd\n",
    "import hvplot.pandas\n",
    "import matplotlib.pyplot as plt\n",
    "import os\n",
    "from pathlib import Path\n",
    "from dotenv import load_dotenv"
   ]
  },
  {
   "cell_type": "code",
   "execution_count": 16,
   "metadata": {},
   "outputs": [],
   "source": [
    "# Read the Mapbox API key\n",
    "load_dotenv()\n",
    "map_box_api = os.getenv(\"mapbox\")\n",
    "px.set_mapbox_access_token(map_box_api)"
   ]
  },
  {
   "cell_type": "markdown",
   "metadata": {},
   "source": [
    "# Import Data"
   ]
  },
  {
   "cell_type": "code",
   "execution_count": 21,
   "metadata": {},
   "outputs": [],
   "source": [
    "# Import the necessary CSVs to Pandas DataFrames\n",
    "# YOUR CODE HERE!\n",
    "file_path = Path(\"Data/sfo_neighborhoods_census_data.csv\")\n",
    "sfo_data = pd.read_csv(file_path, index_col=\"year\")\n",
    "\n",
    "file_path = Path(\"Data/neighborhoods_coordinates.csv\")\n",
    "neighborhood_locations_df = pd.read_csv(file_path)\n"
   ]
  },
  {
   "cell_type": "markdown",
   "metadata": {},
   "source": [
    "- - -"
   ]
  },
  {
   "cell_type": "markdown",
   "metadata": {},
   "source": [
    "## Panel Visualizations\n",
    "\n",
    "In this section, you will copy the code for each plot type from your analysis notebook and place it into separate functions that Panel can use to create panes for the dashboard. \n",
    "\n",
    "These functions will convert the plot object to a Panel pane.\n",
    "\n",
    "Be sure to include any DataFrame transformation/manipulation code required along with the plotting code.\n",
    "\n",
    "Return a Panel pane object from each function that can be used to build the dashboard.\n",
    "\n",
    "Note: Remove any `.show()` lines from the code. We want to return the plots instead of showing them. The Panel dashboard will then display the plots."
   ]
  },
  {
   "cell_type": "code",
   "execution_count": 22,
   "metadata": {},
   "outputs": [],
   "source": [
    "# Define Panel Visualization Functions\n",
    "def housing_units_per_year():\n",
    "    \"\"\"Housing Units Per Year.\"\"\"\n",
    "    \n",
    "    sfo_housing = sfo_data[\"Housing Units\"].groupby(\"Year\").mean()\n",
    "\n",
    "    housing_plot = sfo_housing.hvplot.bar(\n",
    "        ylim=(sfo_housing.min() - sfo_housing.std(), \n",
    "              sfo_housing.max() + sfo_housing.std()), \n",
    "        xlabel=\"Year\", \n",
    "        ylabel=\"Housing Units\", \n",
    "        rot=90,\n",
    "        height=500).opts(\n",
    "        yformatter=\"%.0f\", \n",
    "        hover_line_color=\"red\", \n",
    "        title=\"Housing Units in San Francisco from 2010 to 2016\")\n",
    "\n",
    "    return housing_plot\n",
    "\n",
    "\n",
    "def average_gross_rent():\n",
    "    \"\"\"Average Gross Rent in San Francisco Per Year.\"\"\"\n",
    "    \n",
    "    sfo_avg_grent = round(sfo_data.drop(\n",
    "        columns=[\"neighborhood\",\"Housing Units\"]\n",
    "        ).groupby(\"Year\").mean(),2)\n",
    "    \n",
    "    gross_rent_plot = sfo_avg_grent[\"Gross Rent\"].hvplot(\n",
    "        xlabel=\"Year\", \n",
    "        ylabel=\"Gross Rent\",\n",
    "        height=500).opts(\n",
    "        title=\"Average Gross Rent in San Francisco\")\n",
    "    \n",
    "    return gross_rent_plot\n",
    "\n",
    "\n",
    "def average_sales_price():\n",
    "    \"\"\"Average Sales Price Per Year.\"\"\"\n",
    "    \n",
    "    sfo_avg_grent = round(sfo_data.drop(\n",
    "        columns=[\"neighborhood\",\"Housing Units\"]\n",
    "        ).groupby(\"Year\").mean(),2)\n",
    "    \n",
    "    sales_price_sf_plot = sfo_avg_grent[\"Sales Price per Square Foot\"].hvplot(\n",
    "        xlabel=\"Year\", \n",
    "        ylabel=\"Avg. Sale Price\",\n",
    "        height=500).opts(\n",
    "        title=\"Average Sales Price per Square Foot in San Francisco\")\n",
    "    \n",
    "    return sales_price_sf_plot\n",
    "\n",
    "\n",
    "def average_price_by_neighborhood():\n",
    "    \"\"\"Average Prices by Neighborhood.\"\"\"\n",
    "    \n",
    "    sfo_data_reset_index = sfo_data.reset_index()\n",
    "    sfo_reset_df = round(\n",
    "        sfo_data_reset_index.groupby(\n",
    "            [\"Year\", \"neighborhood\"], \n",
    "            as_index=False)[\"Sales Price per Square Foot\"].mean(),2)\n",
    "    neighborhood_list=sfo_data.groupby(\n",
    "        [\"neighborhood\"], \n",
    "        as_index=False).mean()[\"neighborhood\"].tolist()\n",
    "    \n",
    "    def choose_neighborhood(Neighborhood): \n",
    "\n",
    "        neighborhood_df = sfo_reset_df.loc[sfo_reset_df[\"neighborhood\"] ==  Neighborhood]\n",
    "\n",
    "        neighborhood_plot = neighborhood_df.hvplot(\n",
    "            y=\"Sales Price per Square Foot\", \n",
    "            x=\"Year\",\n",
    "            by=\"neighborhood\",\n",
    "            ylim=(0, 2500)).opts(\n",
    "            title=f\"Neighborhood: {Neighborhood}\")\n",
    "    \n",
    "        return neighborhood_plot\n",
    "\n",
    "    return interact(choose_neighborhood, Neighborhood=neighborhood_list)\n",
    "\n",
    "\n",
    "def top_most_expensive_neighborhoods():\n",
    "    \"\"\"Top 10 Most Expensive Neighborhoods.\"\"\"\n",
    "    \n",
    "    exp_neighbor_top10 = round(sfo_data.groupby([\"neighborhood\"]).mean().nlargest(10, \n",
    "        columns=[\"Sales Price per Square Foot\"]).reset_index(),2)\n",
    "    \n",
    "    top_10_plot = exp_neighbor_top10.hvplot(\n",
    "        kind=\"bar\", \n",
    "        x=\"neighborhood\", \n",
    "        y=\"Sales Price per Square Foot\", \n",
    "        rot=75, \n",
    "        xlabel=\"Neighborhood\", \n",
    "        ylabel=\"Avg. Sales Price per Square Foot\", \n",
    "        height=500).opts(\n",
    "        title=\"Top 10 Expensive Neighborhoods in SFO (Avg $/sf)\")\n",
    "\n",
    "    return top_10_plot\n",
    "\n",
    "\n",
    "def parallel_coordinates():\n",
    "    \"\"\"Parallel Coordinates Plot.\"\"\"\n",
    "    \n",
    "    exp_neighbor_top10 = round(sfo_data.groupby([\"neighborhood\"]).mean().nlargest(10, \n",
    "        columns=[\"Sales Price per Square Foot\"]).reset_index(),2)\n",
    "    \n",
    "    top_10_pxcoord = px.parallel_coordinates(\n",
    "        exp_neighbor_top10, \n",
    "        color=\"Sales Price per Square Foot\",\n",
    "        labels={\"neighborhood\": \"Neighborhood\"})\n",
    "\n",
    "    return top_10_pxcoord\n",
    "\n",
    "\n",
    "def parallel_categories():\n",
    "    \"\"\"Parallel Categories Plot.\"\"\"\n",
    "    \n",
    "    exp_neighbor_top10 = round(sfo_data.groupby([\"neighborhood\"]).mean().nlargest(10, \n",
    "        columns=[\"Sales Price per Square Foot\"]).reset_index(),2)\n",
    "    \n",
    "    top_10_pxcat = px.parallel_categories(\n",
    "        exp_neighbor_top10, \n",
    "        dimensions=[\"neighborhood\", \"Sales Price per Square Foot\", \"Housing Units\", \"Gross Rent\"], \n",
    "        color=\"Sales Price per Square Foot\", \n",
    "        color_continuous_scale=px.colors.sequential.Inferno, \n",
    "        labels={\"neighborhood\": \"Neighborhood\"})\n",
    "\n",
    "    return top_10_pxcat\n",
    "\n",
    "\n",
    "def neighborhood_map():\n",
    "    \"\"\"Neighborhood Map\"\"\"\n",
    "    \n",
    "    sfo_neighborhoods=round(sfo_data.groupby([\"neighborhood\"]).mean().reset_index(),2)\n",
    "    \n",
    "    neighborhood_loc=pd.concat(\n",
    "        (df_neighborhood_locations,sfo_neighborhoods), \n",
    "        axis=\"columns\", join=\"inner\").drop(columns=[\"neighborhood\"])\n",
    "    \n",
    "    px.set_mapbox_access_token(mapbox_token)\n",
    "    \n",
    "    neighborhood_map_plot = px.scatter_mapbox(\n",
    "        neighborhood_loc,\n",
    "        lat=\"Lat\",\n",
    "        lon=\"Lon\",\n",
    "        size=\"Sales Price per Square Foot\",\n",
    "        color=\"Gross Rent\",\n",
    "        hover_name=\"Neighborhood\",\n",
    "        zoom=11,\n",
    "        color_continuous_scale=px.colors.cyclical.IceFire,\n",
    "        title=\"Average Sales Price per Square Foot & Gross Rent in San Francisco\")\n",
    "\n",
    "    return neighborhood_map_plot"
   ]
  },
  {
   "cell_type": "markdown",
   "metadata": {},
   "source": [
    "## Panel Dashboard\n",
    "\n",
    "In this section, you will combine all of the plots into a single dashboard view using Panel. Be creative with your dashboard design!"
   ]
  },
  {
   "cell_type": "code",
   "execution_count": null,
   "metadata": {},
   "outputs": [],
   "source": [
    "# Creating tabs for Dashboard\n",
    "row = pn.Row(housing_units_per_year(), average_gross_rent(), average_sales_price())\n",
    "\n",
    "main_title=\"# San Francisco Real Estate Investment Market\"\n",
    "\n",
    "welcome = pn.Column(main_title, neighborhood_map())\n",
    "neighborhood_analysis = pn.Column(main_title, \n",
    "                                  \"## Average Cost by Neighborhood & 10 Most Expensive Neighborhoods\", \n",
    "                                  average_price_by_neighborhood(), top_most_expensive_neighborhoods())\n",
    "yearly_market_analysis = pn.Column(main_title, \n",
    "                                   \"## Housing Units, Avg Monthly Rental Income & Avg Cost per SqFt\", \n",
    "                                   row)\n",
    "parallel_plots_analysis = pn.Column(main_title, \n",
    "                                    \"## Housing Units & Monthly Rental Income/Cost per SqFt\", \"### 10 Most Expensive Neighborhoods\", \n",
    "                                    parallel_coordinates(), parallel_categories())\n",
    "# Create the dashboard\n",
    "dashboard=pn.Tabs((\"Welcome\", welcome), \n",
    "                  (\"Neighborhood Analysis\", neighborhood_analysis),\n",
    "                  (\"Yearly Market Analyis\", yearly_market_analysis), \n",
    "                  (\"Parallel Plots Analysis\", parallel_plots_analysis))"
   ]
  },
  {
   "cell_type": "markdown",
   "metadata": {},
   "source": [
    "## Serve the Panel Dashboard"
   ]
  },
  {
   "cell_type": "code",
   "execution_count": null,
   "metadata": {},
   "outputs": [],
   "source": [
    "dashboard.servable()"
   ]
  },
  {
   "cell_type": "markdown",
   "metadata": {
    "tags": []
   },
   "source": [
    "# Debugging\n",
    "\n",
    "Note: Some of the Plotly express plots may not render in the notebook through the panel functions.\n",
    "\n",
    "However, you can test each plot by uncommenting the following code"
   ]
  },
  {
   "cell_type": "code",
   "execution_count": null,
   "metadata": {},
   "outputs": [],
   "source": [
    "# housing_units_per_year()"
   ]
  },
  {
   "cell_type": "code",
   "execution_count": null,
   "metadata": {},
   "outputs": [],
   "source": [
    "# average_gross_rent()"
   ]
  },
  {
   "cell_type": "code",
   "execution_count": null,
   "metadata": {},
   "outputs": [],
   "source": [
    "# average_sales_price()"
   ]
  },
  {
   "cell_type": "code",
   "execution_count": null,
   "metadata": {},
   "outputs": [],
   "source": [
    "# average_price_by_neighborhood()"
   ]
  },
  {
   "cell_type": "code",
   "execution_count": null,
   "metadata": {},
   "outputs": [],
   "source": [
    "# top_most_expensive_neighborhoods()"
   ]
  },
  {
   "cell_type": "code",
   "execution_count": null,
   "metadata": {},
   "outputs": [],
   "source": [
    "# most_expensive_neighborhoods_rent_sales()"
   ]
  },
  {
   "cell_type": "code",
   "execution_count": null,
   "metadata": {},
   "outputs": [],
   "source": [
    "# neighborhood_map().show()"
   ]
  },
  {
   "cell_type": "code",
   "execution_count": null,
   "metadata": {},
   "outputs": [],
   "source": [
    "# parallel_categories()"
   ]
  },
  {
   "cell_type": "code",
   "execution_count": null,
   "metadata": {},
   "outputs": [],
   "source": [
    "# parallel_coordinates()"
   ]
  },
  {
   "cell_type": "code",
   "execution_count": null,
   "metadata": {},
   "outputs": [],
   "source": [
    "# sunburst()"
   ]
  },
  {
   "cell_type": "code",
   "execution_count": null,
   "metadata": {},
   "outputs": [],
   "source": []
  }
 ],
 "metadata": {
  "file_extension": ".py",
  "kernelspec": {
   "display_name": "Python 3",
   "language": "python",
   "name": "python3"
  },
  "language_info": {
   "codemirror_mode": {
    "name": "ipython",
    "version": 3
   },
   "file_extension": ".py",
   "mimetype": "text/x-python",
   "name": "python",
   "nbconvert_exporter": "python",
   "pygments_lexer": "ipython3",
   "version": "3.8.2"
  },
  "mimetype": "text/x-python",
  "name": "python",
  "npconvert_exporter": "python",
  "pygments_lexer": "ipython3",
  "version": 3
 },
 "nbformat": 4,
 "nbformat_minor": 4
}
